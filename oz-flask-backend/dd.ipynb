{
 "cells": [
  {
   "cell_type": "code",
   "execution_count": null,
   "metadata": {},
   "outputs": [],
   "source": [
    "from flask_smorest import Blueprint, abort\n",
    "from flask import request\n",
    "\n",
    "def create_user_blueprint(mysql):\n",
    "    user_blp = Blueprint(\"user_routes\", __name__, url_prefix='/users')\n",
    "\n",
    "\n",
    "    # 전체 유저 데이터를 불러오는 코드\n",
    "    @user_blp.route('/', methods=['GET'])\n",
    "    def get_users():\n",
    "        cursor = mysql.connection.cursor()\n",
    "        cursor.execute(\"SELECT * FROM users\")\n",
    "        users = cursor.fetchall() # return 결과 타입은 => 튜플\n",
    "        cursor.close()\n",
    "\n",
    "\n",
    "        \n",
    "\n",
    "        users_list = []\n",
    "        for user in users:  # REST API => {}\n",
    "            users_list.append({\n",
    "                'id' : user[0],\n",
    "                'name' : user[1],\n",
    "                'email' : user[2]\n",
    "            })\n",
    "\n",
    "        return users_list\n",
    "\n",
    "        \n",
    "    # 유저를 생성하는 함수\n",
    "    @user_blp.route(\"/\", methods=['POST'])\n",
    "    def add_user():\n",
    "        user_data = request.json()  # 유저가 보낸 데이터를 받아오게 된다.\n",
    "\n",
    "        cursor = mysql.connection.cursor()\n",
    "        cursor.execute(\"INSERT INTO users(name, eamil) VALUES(%s, %s)\",\n",
    "                       (user_data['name'], user_data['email'])) # users라는 테이블에 데이터를 담아주세요\n",
    "        mysql.connection.commit()\n",
    "        cursor.close()\n",
    "        \n",
    "        return {\"msg\":\"successfully added user\"}, 201"
   ]
  }
 ],
 "metadata": {
  "language_info": {
   "name": "python"
  }
 },
 "nbformat": 4,
 "nbformat_minor": 2
}
