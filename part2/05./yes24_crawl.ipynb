{
 "cells": [
  {
   "cell_type": "markdown",
   "metadata": {},
   "source": [
    "#### 예스 23 크롤링\n"
   ]
  },
  {
   "cell_type": "code",
   "execution_count": 34,
   "metadata": {},
   "outputs": [
    {
     "data": {
      "text/plain": [
       "'/Users/mac/.wdm/drivers/chromedriver/mac64/126.0.6478.182/chromedriver-mac-x64/chromedriver'"
      ]
     },
     "execution_count": 34,
     "metadata": {},
     "output_type": "execute_result"
    }
   ],
   "source": [
    "# webdriver - manager 라이브러리 불러오기\n",
    "from webdriver_manager.chrome import ChromeDriverManager\n",
    "ChromeDriverManager().install()"
   ]
  },
  {
   "cell_type": "code",
   "execution_count": 35,
   "metadata": {},
   "outputs": [],
   "source": [
    "from selenium import webdriver\n",
    "browser = webdriver.Chrome()"
   ]
  },
  {
   "cell_type": "code",
   "execution_count": 36,
   "metadata": {},
   "outputs": [],
   "source": [
    "url = 'https://google.com'\n",
    "browser.get(url)"
   ]
  },
  {
   "cell_type": "code",
   "execution_count": 37,
   "metadata": {},
   "outputs": [
    {
     "data": {
      "text/plain": [
       "'대한민국'"
      ]
     },
     "execution_count": 37,
     "metadata": {},
     "output_type": "execute_result"
    }
   ],
   "source": [
    "from selenium.webdriver.common.by import By\n",
    "browser.find_element(By.CLASS_NAME, 'uU7dJb').text\n"
   ]
  },
  {
   "cell_type": "code",
   "execution_count": 38,
   "metadata": {},
   "outputs": [],
   "source": [
    "url = 'https://www.yes24.com/Product/category/bestseller?CategoryNumber=001&sumgb=06'\n",
    "browser.get(url)"
   ]
  },
  {
   "cell_type": "markdown",
   "metadata": {},
   "source": []
  },
  {
   "cell_type": "code",
   "execution_count": 39,
   "metadata": {},
   "outputs": [
    {
     "name": "stdout",
     "output_type": "stream",
     "text": [
      "https://www.yes24.com/Product/Goods/125557465\n",
      "https://www.yes24.com/Product/Goods/128266166\n",
      "https://www.yes24.com/Product/Goods/124999476\n",
      "https://www.yes24.com/Product/Goods/123930880\n",
      "https://www.yes24.com/Product/Goods/123930891\n",
      "https://www.yes24.com/Product/Goods/124225606\n",
      "https://www.yes24.com/Product/Goods/127094902\n",
      "https://www.yes24.com/Product/Goods/128133897\n",
      "https://www.yes24.com/Product/Goods/104663596\n",
      "https://www.yes24.com/Product/Goods/117014613\n",
      "https://www.yes24.com/Product/Goods/124043812\n",
      "https://www.yes24.com/Product/Goods/124043802\n",
      "https://www.yes24.com/Product/Goods/126511412\n",
      "https://www.yes24.com/Product/Goods/126845471\n",
      "https://www.yes24.com/Product/Goods/126702038\n",
      "https://www.yes24.com/Product/Goods/126516935\n",
      "https://www.yes24.com/Product/Goods/125295101\n",
      "https://www.yes24.com/Product/Goods/126590468\n",
      "https://www.yes24.com/Product/Goods/127098745\n",
      "https://www.yes24.com/Product/Goods/124539805\n",
      "https://www.yes24.com/Product/Goods/128869569\n",
      "https://www.yes24.com/Product/Goods/8759796\n",
      "https://www.yes24.com/Product/Goods/122120495\n",
      "https://www.yes24.com/Product/Goods/125576919\n"
     ]
    }
   ],
   "source": [
    "# 1페이지의 링크 데이터 전부 수집\n",
    "# 한 개의 베스트 셀러 링크 수집\n",
    "browser.find_element(By.CLASS_NAME,'gd_name').get_attribute('href')\n",
    "\n",
    "## 1페이지 전체의 링크 데이터\n",
    "# browser.find_element(By.CLASS_NAME, 'gd_name') # elemnt: 요소'\n",
    "datas = browser.find_elements(By.CLASS_NAME, 'gd_name') # elemnt: 리스트 반복을 돌리면서 요소 하나에 접근을 해서 필요한 데이터에 접근\n",
    "\n",
    "for i in datas:\n",
    "    print(i.get_attribute('href')) # 데이터 수집..1페이지의\n",
    "\n",
    "# <a class=\"gd_name\" href=\"/Product/Goods/125557465\" onclick=\"wiseLogV2('BS', '001_005_001', ''); \">하루 한 장 나의 어휘력을 위한 필사 노트</a> 각각으로 들어있는 요소들\n",
    "# <a class=\"gd_name\" href=\"/Product/Goods/128266166\" onclick=\"wiseLogV2('BS', '001_005_001', ''); \">너에게 들려주는 단단한 말</a>"
   ]
  },
  {
   "cell_type": "code",
   "execution_count": 40,
   "metadata": {},
   "outputs": [
    {
     "name": "stdout",
     "output_type": "stream",
     "text": [
      "현재1페이지 수집 중입니다.\n",
      "['https://www.yes24.com/Product/Goods/125557465', 'https://www.yes24.com/Product/Goods/128266166', 'https://www.yes24.com/Product/Goods/124999476', 'https://www.yes24.com/Product/Goods/123930880', 'https://www.yes24.com/Product/Goods/123930891', 'https://www.yes24.com/Product/Goods/124225606', 'https://www.yes24.com/Product/Goods/127094902', 'https://www.yes24.com/Product/Goods/128133897', 'https://www.yes24.com/Product/Goods/104663596', 'https://www.yes24.com/Product/Goods/117014613', 'https://www.yes24.com/Product/Goods/124043812', 'https://www.yes24.com/Product/Goods/124043802', 'https://www.yes24.com/Product/Goods/126511412', 'https://www.yes24.com/Product/Goods/126845471', 'https://www.yes24.com/Product/Goods/126702038', 'https://www.yes24.com/Product/Goods/126516935', 'https://www.yes24.com/Product/Goods/125295101', 'https://www.yes24.com/Product/Goods/126590468', 'https://www.yes24.com/Product/Goods/127098745', 'https://www.yes24.com/Product/Goods/124539805', 'https://www.yes24.com/Product/Goods/128869569', 'https://www.yes24.com/Product/Goods/8759796', 'https://www.yes24.com/Product/Goods/122120495', 'https://www.yes24.com/Product/Goods/125576919']\n",
      "현재2페이지 수집 중입니다.\n",
      "['https://www.yes24.com/Product/Goods/125557465', 'https://www.yes24.com/Product/Goods/128266166', 'https://www.yes24.com/Product/Goods/124999476', 'https://www.yes24.com/Product/Goods/123930880', 'https://www.yes24.com/Product/Goods/123930891', 'https://www.yes24.com/Product/Goods/124225606', 'https://www.yes24.com/Product/Goods/127094902', 'https://www.yes24.com/Product/Goods/128133897', 'https://www.yes24.com/Product/Goods/104663596', 'https://www.yes24.com/Product/Goods/117014613', 'https://www.yes24.com/Product/Goods/124043812', 'https://www.yes24.com/Product/Goods/124043802', 'https://www.yes24.com/Product/Goods/126511412', 'https://www.yes24.com/Product/Goods/126845471', 'https://www.yes24.com/Product/Goods/126702038', 'https://www.yes24.com/Product/Goods/126516935', 'https://www.yes24.com/Product/Goods/125295101', 'https://www.yes24.com/Product/Goods/126590468', 'https://www.yes24.com/Product/Goods/127098745', 'https://www.yes24.com/Product/Goods/124539805', 'https://www.yes24.com/Product/Goods/128869569', 'https://www.yes24.com/Product/Goods/8759796', 'https://www.yes24.com/Product/Goods/122120495', 'https://www.yes24.com/Product/Goods/125576919', 'https://www.yes24.com/Product/Goods/96547408', 'https://www.yes24.com/Product/Goods/125992096', 'https://www.yes24.com/Product/Goods/123675187', 'https://www.yes24.com/Product/Goods/125969665', 'https://www.yes24.com/Product/Goods/128869555', 'https://www.yes24.com/Product/Goods/67362730', 'https://www.yes24.com/Product/Goods/124702605', 'https://www.yes24.com/Product/Goods/127050264', 'https://www.yes24.com/Product/Goods/128913049', 'https://www.yes24.com/Product/Goods/128196803', 'https://www.yes24.com/Product/Goods/128251777', 'https://www.yes24.com/Product/Goods/101864763', 'https://www.yes24.com/Product/Goods/125075376', 'https://www.yes24.com/Product/Goods/128849999', 'https://www.yes24.com/Product/Goods/128218178', 'https://www.yes24.com/Product/Goods/128710948', 'https://www.yes24.com/Product/Goods/28995741', 'https://www.yes24.com/Product/Goods/127095422', 'https://www.yes24.com/Product/Goods/128829285', 'https://www.yes24.com/Product/Goods/121826324', 'https://www.yes24.com/Product/Goods/126670771', 'https://www.yes24.com/Product/Goods/127095428', 'https://www.yes24.com/Product/Goods/124219505', 'https://www.yes24.com/Product/Goods/128182633']\n",
      "현재3페이지 수집 중입니다.\n",
      "['https://www.yes24.com/Product/Goods/125557465', 'https://www.yes24.com/Product/Goods/128266166', 'https://www.yes24.com/Product/Goods/124999476', 'https://www.yes24.com/Product/Goods/123930880', 'https://www.yes24.com/Product/Goods/123930891', 'https://www.yes24.com/Product/Goods/124225606', 'https://www.yes24.com/Product/Goods/127094902', 'https://www.yes24.com/Product/Goods/128133897', 'https://www.yes24.com/Product/Goods/104663596', 'https://www.yes24.com/Product/Goods/117014613', 'https://www.yes24.com/Product/Goods/124043812', 'https://www.yes24.com/Product/Goods/124043802', 'https://www.yes24.com/Product/Goods/126511412', 'https://www.yes24.com/Product/Goods/126845471', 'https://www.yes24.com/Product/Goods/126702038', 'https://www.yes24.com/Product/Goods/126516935', 'https://www.yes24.com/Product/Goods/125295101', 'https://www.yes24.com/Product/Goods/126590468', 'https://www.yes24.com/Product/Goods/127098745', 'https://www.yes24.com/Product/Goods/124539805', 'https://www.yes24.com/Product/Goods/128869569', 'https://www.yes24.com/Product/Goods/8759796', 'https://www.yes24.com/Product/Goods/122120495', 'https://www.yes24.com/Product/Goods/125576919', 'https://www.yes24.com/Product/Goods/96547408', 'https://www.yes24.com/Product/Goods/125992096', 'https://www.yes24.com/Product/Goods/123675187', 'https://www.yes24.com/Product/Goods/125969665', 'https://www.yes24.com/Product/Goods/128869555', 'https://www.yes24.com/Product/Goods/67362730', 'https://www.yes24.com/Product/Goods/124702605', 'https://www.yes24.com/Product/Goods/127050264', 'https://www.yes24.com/Product/Goods/128913049', 'https://www.yes24.com/Product/Goods/128196803', 'https://www.yes24.com/Product/Goods/128251777', 'https://www.yes24.com/Product/Goods/101864763', 'https://www.yes24.com/Product/Goods/125075376', 'https://www.yes24.com/Product/Goods/128849999', 'https://www.yes24.com/Product/Goods/128218178', 'https://www.yes24.com/Product/Goods/128710948', 'https://www.yes24.com/Product/Goods/28995741', 'https://www.yes24.com/Product/Goods/127095422', 'https://www.yes24.com/Product/Goods/128829285', 'https://www.yes24.com/Product/Goods/121826324', 'https://www.yes24.com/Product/Goods/126670771', 'https://www.yes24.com/Product/Goods/127095428', 'https://www.yes24.com/Product/Goods/124219505', 'https://www.yes24.com/Product/Goods/128182633', 'https://www.yes24.com/Product/Goods/128869414', 'https://www.yes24.com/Product/Goods/28995747', 'https://www.yes24.com/Product/Goods/127086686', 'https://www.yes24.com/Product/Goods/122090360', 'https://www.yes24.com/Product/Goods/123400303', 'https://www.yes24.com/Product/Goods/128917300', 'https://www.yes24.com/Product/Goods/125384743', 'https://www.yes24.com/Product/Goods/91868954', 'https://www.yes24.com/Product/Goods/127012688', 'https://www.yes24.com/Product/Goods/7320104', 'https://www.yes24.com/Product/Goods/128869314', 'https://www.yes24.com/Product/Goods/125971089', 'https://www.yes24.com/Product/Goods/129043527', 'https://www.yes24.com/Product/Goods/116467955', 'https://www.yes24.com/Product/Goods/124489429', 'https://www.yes24.com/Product/Goods/116020437', 'https://www.yes24.com/Product/Goods/117933045', 'https://www.yes24.com/Product/Goods/128120256', 'https://www.yes24.com/Product/Goods/127047306', 'https://www.yes24.com/Product/Goods/125448202', 'https://www.yes24.com/Product/Goods/119458052', 'https://www.yes24.com/Product/Goods/2312211', 'https://www.yes24.com/Product/Goods/121911671', 'https://www.yes24.com/Product/Goods/118578901']\n"
     ]
    }
   ],
   "source": [
    "import time\n",
    "\n",
    "#3페이지까지의 링크 데이터 전부 수집\n",
    "link_list =[]\n",
    "for i in range(1,4):\n",
    "    print(f\"현재{i}페이지 수집 중입니다.\")\n",
    "    url = f'https://www.yes24.com/Product/Category/BestSeller?categoryNumber=001&pageNumber={i}&pageSize=24'\n",
    "    browser.get(url)\n",
    "\n",
    "    browser.find_element(By.CLASS_NAME,'gd_name').get_attribute('href')\n",
    "# browser.find_element(By.CLASS_NAME, 'gd_name') # elemnt: 요소'\n",
    "    datas = browser.find_elements(By.CLASS_NAME, 'gd_name') # elemnt: 리스트 반복을 돌리면서 요소 하나에 접근을 해서 필요한 데이터에 접근\n",
    "\n",
    "    for i in datas:\n",
    "        link = i.get_attribute('href') # 데이터 수집..1페이지의\n",
    "        link_list.append(link)\n",
    "\n",
    "    time.sleep(3) # 3ch 잠깐 쉬었다가 다음 페이지로\n",
    "\n",
    "    print(link_list)\n",
    "    "
   ]
  },
  {
   "cell_type": "code",
   "execution_count": 41,
   "metadata": {},
   "outputs": [
    {
     "data": {
      "text/plain": [
       "72"
      ]
     },
     "execution_count": 41,
     "metadata": {},
     "output_type": "execute_result"
    }
   ],
   "source": [
    "len(link_list)"
   ]
  },
  {
   "cell_type": "code",
   "execution_count": 97,
   "metadata": {},
   "outputs": [],
   "source": [
    "# ranking = browser.find_element(By.CLASS_NAME,'gd_best').find_element(By.TAG_NAME,'a').text  부모태그에서 자식태그로 로 접근 할 수 있음\n",
    "#for link in link_list:\n",
    "    # 상세 페이지로 이동\n",
    "    #browser.get(link)\n",
    "\n",
    "browser.get(link_list[0])\n",
    "\n",
    "title = browser.find_element(By.CLASS_NAME, 'gd_name').text\n",
    "author = browser.find_element(By.CLASS_NAME,'gd_auth').text\n",
    "publisher = browser.find_element(By.CLASS_NAME,'gd_pub').text\n",
    "publishing = browser.find_element(By.CLASS_NAME,'gd_date').text\n",
    "rating = browser.find_element(By.CLASS_NAME,'yes_b').text\n",
    "reviews = browser.find_element(By.CLASS_NAME,'txC_blue').text\n",
    "sales = browser.find_element(By.CLASS_NAME,'gd_sellNum').text.split(\" \")[2]\n",
    "price = browser.find_element(By.CLASS_NAME,'yes_m').text[:-1]\n",
    "ranking = browser.find_element(By.CLASS_NAME,'gd_best').text.split(\" | \")[0].split(\" \")[2][:-1]\n",
    "ranking_weeks = browser.find_element(By.CLASS_NAME,'gd_best').text.split(\" | \")[1].split(\" \")[2][:-1]\n"
   ]
  },
  {
   "cell_type": "code",
   "execution_count": 90,
   "metadata": {},
   "outputs": [
    {
     "data": {
      "text/plain": [
       "'국내도'"
      ]
     },
     "execution_count": 90,
     "metadata": {},
     "output_type": "execute_result"
    }
   ],
   "source": []
  },
  {
   "cell_type": "code",
   "execution_count": 65,
   "metadata": {},
   "outputs": [
    {
     "data": {
      "text/plain": [
       "'189,639'"
      ]
     },
     "execution_count": 65,
     "metadata": {},
     "output_type": "execute_result"
    }
   ],
   "source": [
    "text = '| 판매지수 189,639'\n",
    "\n",
    "text.split(\" \")[2]"
   ]
  },
  {
   "cell_type": "code",
   "execution_count": 77,
   "metadata": {},
   "outputs": [
    {
     "data": {
      "text/plain": [
       "\"'베스트 국내도서 49위\""
      ]
     },
     "execution_count": 77,
     "metadata": {},
     "output_type": "execute_result"
    }
   ],
   "source": [
    "tt = \"'베스트 국내도서 49위 | 국내도서 top20 4주'\"\n",
    "tt.split(\" | \")[0]"
   ]
  },
  {
   "cell_type": "code",
   "execution_count": 44,
   "metadata": {},
   "outputs": [
    {
     "name": "stdout",
     "output_type": "stream",
     "text": [
      "(1366, \"Incorrect decimal value: '19,800' for column 'rating' at row 1\")\n",
      "(1366, \"Incorrect decimal value: '16,920' for column 'rating' at row 1\")\n",
      "(1366, \"Incorrect decimal value: '' for column 'rating' at row 1\")\n",
      "(1366, \"Incorrect decimal value: '14,220' for column 'rating' at row 1\")\n"
     ]
    }
   ],
   "source": [
    "import pymysql\n",
    "import pymysql.cursors # 가상 환경이기 때문에 다시 설치 pip install pymysql\n",
    "import time\n",
    "import re\n",
    "from datetime import datetime\n",
    "\n",
    "conn = pymysql.connect(\n",
    "    host='localhost',\n",
    "    user='root',\n",
    "    password='20153681',\n",
    "    db='yes24',\n",
    "    charset='utf8mb4',  # 이모지 개념 설정\n",
    "    cursorclass=pymysql.cursors.DictCursor\n",
    ")\n",
    "\n",
    "with conn.cursor() as cur:\n",
    "    for idx, link in enumerate(link_list):\n",
    "        try:\n",
    "            #if idx > 5:\n",
    "                #break\n",
    "            browser.get(link)\n",
    "\n",
    "            title = browser.find_element(By.CLASS_NAME, 'gd_name').text\n",
    "            author = browser.find_element(By.CLASS_NAME, 'gd_auth').text\n",
    "            publisher = browser.find_element(By.CLASS_NAME, 'gd_pub').text\n",
    "\n",
    "        # 2023년 12월 25일 -> 2023-12-25\n",
    "            publishing = browser.find_element(By.CLASS_NAME, 'gd_date').text\n",
    "            match = re.search(r'(\\d+)년 (\\d+)월 (\\d+)일', publishing)\n",
    "\n",
    "            if match:\n",
    "                year, month, day = match.groups()\n",
    "                data_obj = datetime(int(year), int(month), int(day))\n",
    "                publishing = data_obj.strftime(\"%Y-%m-%d\")\n",
    "            else:\n",
    "                publishing = \"2023-01-01\"\n",
    "\n",
    "            rating = browser.find_element(By.CLASS_NAME, 'yes_b').text\n",
    "            reviews = browser.find_element(By.CLASS_NAME, 'txC_blue').text\n",
    "            # reviews = int(reviews.replace(\",\", \"\"))  # 콤마를 이렇게 바꿔주세요\n",
    "            try:\n",
    "                reviews = int(reviews.replace(\",\", \"\"))\n",
    "            except ValueError:\n",
    "                reviews = 0\n",
    "\n",
    "            sales = browser.find_element(By.CLASS_NAME, 'gd_sellNum').text.split(\" \")[2]\n",
    "            sales = int(sales.replace(\",\", \"\"))\n",
    "\n",
    "            price = browser.find_element(By.CLASS_NAME, 'yes_m').text[:-1]\n",
    "            price = int(price.replace(\",\", \"\"))\n",
    "\n",
    "            full_text = browser.find_element(By.CLASS_NAME, 'gd_best').text\n",
    "            parts = full_text.split(\" | \")\n",
    "\n",
    "            if len(parts) == 1:\n",
    "                ranking = 0\n",
    "                ranking_weeks = 0\n",
    "            else:\n",
    "                try:\n",
    "                    ranking_part = parts[0]\n",
    "                    ranking = ''.join(filter(str.isdigit, ranking_part))  # 문자열에서 숫자만 가져옴\n",
    "                except:\n",
    "                    ranking = 0\n",
    "\n",
    "                try:\n",
    "                    # 국내도서 top20주\n",
    "                    ranking_weeks_part = parts[1]\n",
    "                    ranking_weeks = ''.join(filter(str.isdigit, ranking_weeks_part.split()[-1]))\n",
    "                except:\n",
    "                    ranking_weeks = 0\n",
    "      \n",
    "\n",
    "            sql = \"\"\"\n",
    "            INSERT INTO Book(\n",
    "                title, author, publisher, publishing, rating, reviews, sales, price, ranking, ranking_weeks\n",
    "            )\n",
    "            VALUES (\n",
    "                %s, %s, %s, %s, %s, %s, %s, %s, %s, %s\n",
    "            )\n",
    "            \"\"\"\n",
    "            cur.execute(sql, (title, author, publisher, publishing, rating, reviews, sales, price, ranking, ranking_weeks))\n",
    "            conn.commit()\n",
    "            time.sleep(2)\n",
    "       \n",
    "        except Exception as e:\n",
    "\n",
    "            print(e)\n",
    "\n"
   ]
  },
  {
   "cell_type": "markdown",
   "metadata": {},
   "source": []
  },
  {
   "cell_type": "code",
   "execution_count": 62,
   "metadata": {},
   "outputs": [
    {
     "ename": "NoSuchElementException",
     "evalue": "Message: no such element: Unable to locate element: {\"method\":\"css selector\",\"selector\":\".gd_auth\"}\n  (Session info: chrome=126.0.6478.127); For documentation on this error, please visit: https://www.selenium.dev/documentation/webdriver/troubleshooting/errors#no-such-element-exception\nStacktrace:\n0   chromedriver                        0x0000000107c82078 chromedriver + 5169272\n1   chromedriver                        0x0000000107c79f4a chromedriver + 5136202\n2   chromedriver                        0x00000001077f636c chromedriver + 402284\n3   chromedriver                        0x0000000107843740 chromedriver + 718656\n4   chromedriver                        0x0000000107843a01 chromedriver + 719361\n5   chromedriver                        0x0000000107888bc4 chromedriver + 1002436\n6   chromedriver                        0x0000000107866add chromedriver + 862941\n7   chromedriver                        0x0000000107885f57 chromedriver + 991063\n8   chromedriver                        0x0000000107866853 chromedriver + 862291\n9   chromedriver                        0x00000001078365c6 chromedriver + 665030\n10  chromedriver                        0x0000000107836e4e chromedriver + 667214\n11  chromedriver                        0x0000000107c44c90 chromedriver + 4918416\n12  chromedriver                        0x0000000107c49c8d chromedriver + 4938893\n13  chromedriver                        0x0000000107c4a365 chromedriver + 4940645\n14  chromedriver                        0x0000000107c25d74 chromedriver + 4791668\n15  chromedriver                        0x0000000107c4a659 chromedriver + 4941401\n16  chromedriver                        0x0000000107c17544 chromedriver + 4732228\n17  chromedriver                        0x0000000107c6a828 chromedriver + 5072936\n18  chromedriver                        0x0000000107c6a9e7 chromedriver + 5073383\n19  chromedriver                        0x0000000107c79afe chromedriver + 5135102\n20  libsystem_pthread.dylib             0x00007ff81306c18b _pthread_start + 99\n21  libsystem_pthread.dylib             0x00007ff813067ae3 thread_start + 15\n",
     "output_type": "error",
     "traceback": [
      "\u001b[0;31m---------------------------------------------------------------------------\u001b[0m",
      "\u001b[0;31mNoSuchElementException\u001b[0m                    Traceback (most recent call last)",
      "Cell \u001b[0;32mIn[62], line 3\u001b[0m\n\u001b[1;32m      1\u001b[0m \u001b[38;5;66;03m# 상세 페이지 이동 후 데이터 크롤링\u001b[39;00m\n\u001b[1;32m      2\u001b[0m title \u001b[38;5;241m=\u001b[39m browser\u001b[38;5;241m.\u001b[39mfind_element(By\u001b[38;5;241m.\u001b[39mCLASS_NAME, \u001b[38;5;124m'\u001b[39m\u001b[38;5;124mgd_name\u001b[39m\u001b[38;5;124m'\u001b[39m)\u001b[38;5;241m.\u001b[39mtext\n\u001b[0;32m----> 3\u001b[0m author \u001b[38;5;241m=\u001b[39m \u001b[43mbrowser\u001b[49m\u001b[38;5;241;43m.\u001b[39;49m\u001b[43mfind_element\u001b[49m\u001b[43m(\u001b[49m\u001b[43mBy\u001b[49m\u001b[38;5;241;43m.\u001b[39;49m\u001b[43mCLASS_NAME\u001b[49m\u001b[43m,\u001b[49m\u001b[38;5;124;43m'\u001b[39;49m\u001b[38;5;124;43mgd_auth\u001b[39;49m\u001b[38;5;124;43m'\u001b[39;49m\u001b[43m)\u001b[49m\u001b[38;5;241m.\u001b[39mtext\n\u001b[1;32m      4\u001b[0m publisher \u001b[38;5;241m=\u001b[39m browser\u001b[38;5;241m.\u001b[39mfind_element(By\u001b[38;5;241m.\u001b[39mCLASS_NAME,\u001b[38;5;124m'\u001b[39m\u001b[38;5;124mgd_pub\u001b[39m\u001b[38;5;124m'\u001b[39m)\u001b[38;5;241m.\u001b[39mtext\n\u001b[1;32m      5\u001b[0m publishing \u001b[38;5;241m=\u001b[39m browser\u001b[38;5;241m.\u001b[39mfind_element(By\u001b[38;5;241m.\u001b[39mCLASS_NAME,\u001b[38;5;124m'\u001b[39m\u001b[38;5;124mgd_date\u001b[39m\u001b[38;5;124m'\u001b[39m)\u001b[38;5;241m.\u001b[39mtext\n",
      "File \u001b[0;32m~/Documents/git/.venv/lib/python3.9/site-packages/selenium/webdriver/remote/webdriver.py:748\u001b[0m, in \u001b[0;36mWebDriver.find_element\u001b[0;34m(self, by, value)\u001b[0m\n\u001b[1;32m    745\u001b[0m     by \u001b[38;5;241m=\u001b[39m By\u001b[38;5;241m.\u001b[39mCSS_SELECTOR\n\u001b[1;32m    746\u001b[0m     value \u001b[38;5;241m=\u001b[39m \u001b[38;5;124mf\u001b[39m\u001b[38;5;124m'\u001b[39m\u001b[38;5;124m[name=\u001b[39m\u001b[38;5;124m\"\u001b[39m\u001b[38;5;132;01m{\u001b[39;00mvalue\u001b[38;5;132;01m}\u001b[39;00m\u001b[38;5;124m\"\u001b[39m\u001b[38;5;124m]\u001b[39m\u001b[38;5;124m'\u001b[39m\n\u001b[0;32m--> 748\u001b[0m \u001b[38;5;28;01mreturn\u001b[39;00m \u001b[38;5;28;43mself\u001b[39;49m\u001b[38;5;241;43m.\u001b[39;49m\u001b[43mexecute\u001b[49m\u001b[43m(\u001b[49m\u001b[43mCommand\u001b[49m\u001b[38;5;241;43m.\u001b[39;49m\u001b[43mFIND_ELEMENT\u001b[49m\u001b[43m,\u001b[49m\u001b[43m \u001b[49m\u001b[43m{\u001b[49m\u001b[38;5;124;43m\"\u001b[39;49m\u001b[38;5;124;43musing\u001b[39;49m\u001b[38;5;124;43m\"\u001b[39;49m\u001b[43m:\u001b[49m\u001b[43m \u001b[49m\u001b[43mby\u001b[49m\u001b[43m,\u001b[49m\u001b[43m \u001b[49m\u001b[38;5;124;43m\"\u001b[39;49m\u001b[38;5;124;43mvalue\u001b[39;49m\u001b[38;5;124;43m\"\u001b[39;49m\u001b[43m:\u001b[49m\u001b[43m \u001b[49m\u001b[43mvalue\u001b[49m\u001b[43m}\u001b[49m\u001b[43m)\u001b[49m[\u001b[38;5;124m\"\u001b[39m\u001b[38;5;124mvalue\u001b[39m\u001b[38;5;124m\"\u001b[39m]\n",
      "File \u001b[0;32m~/Documents/git/.venv/lib/python3.9/site-packages/selenium/webdriver/remote/webdriver.py:354\u001b[0m, in \u001b[0;36mWebDriver.execute\u001b[0;34m(self, driver_command, params)\u001b[0m\n\u001b[1;32m    352\u001b[0m response \u001b[38;5;241m=\u001b[39m \u001b[38;5;28mself\u001b[39m\u001b[38;5;241m.\u001b[39mcommand_executor\u001b[38;5;241m.\u001b[39mexecute(driver_command, params)\n\u001b[1;32m    353\u001b[0m \u001b[38;5;28;01mif\u001b[39;00m response:\n\u001b[0;32m--> 354\u001b[0m     \u001b[38;5;28;43mself\u001b[39;49m\u001b[38;5;241;43m.\u001b[39;49m\u001b[43merror_handler\u001b[49m\u001b[38;5;241;43m.\u001b[39;49m\u001b[43mcheck_response\u001b[49m\u001b[43m(\u001b[49m\u001b[43mresponse\u001b[49m\u001b[43m)\u001b[49m\n\u001b[1;32m    355\u001b[0m     response[\u001b[38;5;124m\"\u001b[39m\u001b[38;5;124mvalue\u001b[39m\u001b[38;5;124m\"\u001b[39m] \u001b[38;5;241m=\u001b[39m \u001b[38;5;28mself\u001b[39m\u001b[38;5;241m.\u001b[39m_unwrap_value(response\u001b[38;5;241m.\u001b[39mget(\u001b[38;5;124m\"\u001b[39m\u001b[38;5;124mvalue\u001b[39m\u001b[38;5;124m\"\u001b[39m, \u001b[38;5;28;01mNone\u001b[39;00m))\n\u001b[1;32m    356\u001b[0m     \u001b[38;5;28;01mreturn\u001b[39;00m response\n",
      "File \u001b[0;32m~/Documents/git/.venv/lib/python3.9/site-packages/selenium/webdriver/remote/errorhandler.py:229\u001b[0m, in \u001b[0;36mErrorHandler.check_response\u001b[0;34m(self, response)\u001b[0m\n\u001b[1;32m    227\u001b[0m         alert_text \u001b[38;5;241m=\u001b[39m value[\u001b[38;5;124m\"\u001b[39m\u001b[38;5;124malert\u001b[39m\u001b[38;5;124m\"\u001b[39m]\u001b[38;5;241m.\u001b[39mget(\u001b[38;5;124m\"\u001b[39m\u001b[38;5;124mtext\u001b[39m\u001b[38;5;124m\"\u001b[39m)\n\u001b[1;32m    228\u001b[0m     \u001b[38;5;28;01mraise\u001b[39;00m exception_class(message, screen, stacktrace, alert_text)  \u001b[38;5;66;03m# type: ignore[call-arg]  # mypy is not smart enough here\u001b[39;00m\n\u001b[0;32m--> 229\u001b[0m \u001b[38;5;28;01mraise\u001b[39;00m exception_class(message, screen, stacktrace)\n",
      "\u001b[0;31mNoSuchElementException\u001b[0m: Message: no such element: Unable to locate element: {\"method\":\"css selector\",\"selector\":\".gd_auth\"}\n  (Session info: chrome=126.0.6478.127); For documentation on this error, please visit: https://www.selenium.dev/documentation/webdriver/troubleshooting/errors#no-such-element-exception\nStacktrace:\n0   chromedriver                        0x0000000107c82078 chromedriver + 5169272\n1   chromedriver                        0x0000000107c79f4a chromedriver + 5136202\n2   chromedriver                        0x00000001077f636c chromedriver + 402284\n3   chromedriver                        0x0000000107843740 chromedriver + 718656\n4   chromedriver                        0x0000000107843a01 chromedriver + 719361\n5   chromedriver                        0x0000000107888bc4 chromedriver + 1002436\n6   chromedriver                        0x0000000107866add chromedriver + 862941\n7   chromedriver                        0x0000000107885f57 chromedriver + 991063\n8   chromedriver                        0x0000000107866853 chromedriver + 862291\n9   chromedriver                        0x00000001078365c6 chromedriver + 665030\n10  chromedriver                        0x0000000107836e4e chromedriver + 667214\n11  chromedriver                        0x0000000107c44c90 chromedriver + 4918416\n12  chromedriver                        0x0000000107c49c8d chromedriver + 4938893\n13  chromedriver                        0x0000000107c4a365 chromedriver + 4940645\n14  chromedriver                        0x0000000107c25d74 chromedriver + 4791668\n15  chromedriver                        0x0000000107c4a659 chromedriver + 4941401\n16  chromedriver                        0x0000000107c17544 chromedriver + 4732228\n17  chromedriver                        0x0000000107c6a828 chromedriver + 5072936\n18  chromedriver                        0x0000000107c6a9e7 chromedriver + 5073383\n19  chromedriver                        0x0000000107c79afe chromedriver + 5135102\n20  libsystem_pthread.dylib             0x00007ff81306c18b _pthread_start + 99\n21  libsystem_pthread.dylib             0x00007ff813067ae3 thread_start + 15\n"
     ]
    }
   ],
   "source": [
    "\n",
    "# 상세 페이지 이동 후 데이터 크롤링\n",
    "title = browser.find_element(By.CLASS_NAME, 'gd_name').text\n",
    "author = browser.find_element(By.CLASS_NAME,'gd_auth').text\n",
    "publisher = browser.find_element(By.CLASS_NAME,'gd_pub').text\n",
    "publishing = browser.find_element(By.CLASS_NAME,'gd_date').text\n",
    "rating = browser.find_element(By.CLASS_NAME,'yes_b').text\n",
    "review = browser.find_element(By.CLASS_NAME,'txC_blue').text\n",
    "sales = browser.find_element(By.CLASS_NAME,'gd_sellNum').text.split(\" \")[2]\n",
    "price = browser.find_element(By.CLASS_NAME,'yes_m').text[:-1]\n",
    "ranking = browser.find_element(By.CLASS_NAME,'gd_best').text.split(\" | \")[0]\n",
    "ranking_weeks = browser.find_element(By.CLASS_NAME,'gd_best').text.split(\" | \")[1]\n",
    "\n"
   ]
  },
  {
   "cell_type": "code",
   "execution_count": 63,
   "metadata": {},
   "outputs": [
    {
     "ename": "NoSuchElementException",
     "evalue": "Message: no such element: Unable to locate element: {\"method\":\"css selector\",\"selector\":\".gd_best\"}\n  (Session info: chrome=126.0.6478.127); For documentation on this error, please visit: https://www.selenium.dev/documentation/webdriver/troubleshooting/errors#no-such-element-exception\nStacktrace:\n0   chromedriver                        0x0000000107c82078 chromedriver + 5169272\n1   chromedriver                        0x0000000107c79f4a chromedriver + 5136202\n2   chromedriver                        0x00000001077f636c chromedriver + 402284\n3   chromedriver                        0x0000000107843740 chromedriver + 718656\n4   chromedriver                        0x0000000107843a01 chromedriver + 719361\n5   chromedriver                        0x0000000107888bc4 chromedriver + 1002436\n6   chromedriver                        0x0000000107866add chromedriver + 862941\n7   chromedriver                        0x0000000107885f57 chromedriver + 991063\n8   chromedriver                        0x0000000107866853 chromedriver + 862291\n9   chromedriver                        0x00000001078365c6 chromedriver + 665030\n10  chromedriver                        0x0000000107836e4e chromedriver + 667214\n11  chromedriver                        0x0000000107c44c90 chromedriver + 4918416\n12  chromedriver                        0x0000000107c49c8d chromedriver + 4938893\n13  chromedriver                        0x0000000107c4a365 chromedriver + 4940645\n14  chromedriver                        0x0000000107c25d74 chromedriver + 4791668\n15  chromedriver                        0x0000000107c4a659 chromedriver + 4941401\n16  chromedriver                        0x0000000107c17544 chromedriver + 4732228\n17  chromedriver                        0x0000000107c6a828 chromedriver + 5072936\n18  chromedriver                        0x0000000107c6a9e7 chromedriver + 5073383\n19  chromedriver                        0x0000000107c79afe chromedriver + 5135102\n20  libsystem_pthread.dylib             0x00007ff81306c18b _pthread_start + 99\n21  libsystem_pthread.dylib             0x00007ff813067ae3 thread_start + 15\n",
     "output_type": "error",
     "traceback": [
      "\u001b[0;31m---------------------------------------------------------------------------\u001b[0m",
      "\u001b[0;31mNoSuchElementException\u001b[0m                    Traceback (most recent call last)",
      "Cell \u001b[0;32mIn[63], line 1\u001b[0m\n\u001b[0;32m----> 1\u001b[0m ranking \u001b[38;5;241m=\u001b[39m \u001b[43mbrowser\u001b[49m\u001b[38;5;241;43m.\u001b[39;49m\u001b[43mfind_element\u001b[49m\u001b[43m(\u001b[49m\u001b[43mBy\u001b[49m\u001b[38;5;241;43m.\u001b[39;49m\u001b[43mCLASS_NAME\u001b[49m\u001b[43m,\u001b[49m\u001b[38;5;124;43m'\u001b[39;49m\u001b[38;5;124;43mgd_best\u001b[39;49m\u001b[38;5;124;43m'\u001b[39;49m\u001b[43m)\u001b[49m\u001b[38;5;241m.\u001b[39mtext\u001b[38;5;241m.\u001b[39msplit(\u001b[38;5;124m\"\u001b[39m\u001b[38;5;124m | \u001b[39m\u001b[38;5;124m\"\u001b[39m)[\u001b[38;5;241m0\u001b[39m]\n",
      "File \u001b[0;32m~/Documents/git/.venv/lib/python3.9/site-packages/selenium/webdriver/remote/webdriver.py:748\u001b[0m, in \u001b[0;36mWebDriver.find_element\u001b[0;34m(self, by, value)\u001b[0m\n\u001b[1;32m    745\u001b[0m     by \u001b[38;5;241m=\u001b[39m By\u001b[38;5;241m.\u001b[39mCSS_SELECTOR\n\u001b[1;32m    746\u001b[0m     value \u001b[38;5;241m=\u001b[39m \u001b[38;5;124mf\u001b[39m\u001b[38;5;124m'\u001b[39m\u001b[38;5;124m[name=\u001b[39m\u001b[38;5;124m\"\u001b[39m\u001b[38;5;132;01m{\u001b[39;00mvalue\u001b[38;5;132;01m}\u001b[39;00m\u001b[38;5;124m\"\u001b[39m\u001b[38;5;124m]\u001b[39m\u001b[38;5;124m'\u001b[39m\n\u001b[0;32m--> 748\u001b[0m \u001b[38;5;28;01mreturn\u001b[39;00m \u001b[38;5;28;43mself\u001b[39;49m\u001b[38;5;241;43m.\u001b[39;49m\u001b[43mexecute\u001b[49m\u001b[43m(\u001b[49m\u001b[43mCommand\u001b[49m\u001b[38;5;241;43m.\u001b[39;49m\u001b[43mFIND_ELEMENT\u001b[49m\u001b[43m,\u001b[49m\u001b[43m \u001b[49m\u001b[43m{\u001b[49m\u001b[38;5;124;43m\"\u001b[39;49m\u001b[38;5;124;43musing\u001b[39;49m\u001b[38;5;124;43m\"\u001b[39;49m\u001b[43m:\u001b[49m\u001b[43m \u001b[49m\u001b[43mby\u001b[49m\u001b[43m,\u001b[49m\u001b[43m \u001b[49m\u001b[38;5;124;43m\"\u001b[39;49m\u001b[38;5;124;43mvalue\u001b[39;49m\u001b[38;5;124;43m\"\u001b[39;49m\u001b[43m:\u001b[49m\u001b[43m \u001b[49m\u001b[43mvalue\u001b[49m\u001b[43m}\u001b[49m\u001b[43m)\u001b[49m[\u001b[38;5;124m\"\u001b[39m\u001b[38;5;124mvalue\u001b[39m\u001b[38;5;124m\"\u001b[39m]\n",
      "File \u001b[0;32m~/Documents/git/.venv/lib/python3.9/site-packages/selenium/webdriver/remote/webdriver.py:354\u001b[0m, in \u001b[0;36mWebDriver.execute\u001b[0;34m(self, driver_command, params)\u001b[0m\n\u001b[1;32m    352\u001b[0m response \u001b[38;5;241m=\u001b[39m \u001b[38;5;28mself\u001b[39m\u001b[38;5;241m.\u001b[39mcommand_executor\u001b[38;5;241m.\u001b[39mexecute(driver_command, params)\n\u001b[1;32m    353\u001b[0m \u001b[38;5;28;01mif\u001b[39;00m response:\n\u001b[0;32m--> 354\u001b[0m     \u001b[38;5;28;43mself\u001b[39;49m\u001b[38;5;241;43m.\u001b[39;49m\u001b[43merror_handler\u001b[49m\u001b[38;5;241;43m.\u001b[39;49m\u001b[43mcheck_response\u001b[49m\u001b[43m(\u001b[49m\u001b[43mresponse\u001b[49m\u001b[43m)\u001b[49m\n\u001b[1;32m    355\u001b[0m     response[\u001b[38;5;124m\"\u001b[39m\u001b[38;5;124mvalue\u001b[39m\u001b[38;5;124m\"\u001b[39m] \u001b[38;5;241m=\u001b[39m \u001b[38;5;28mself\u001b[39m\u001b[38;5;241m.\u001b[39m_unwrap_value(response\u001b[38;5;241m.\u001b[39mget(\u001b[38;5;124m\"\u001b[39m\u001b[38;5;124mvalue\u001b[39m\u001b[38;5;124m\"\u001b[39m, \u001b[38;5;28;01mNone\u001b[39;00m))\n\u001b[1;32m    356\u001b[0m     \u001b[38;5;28;01mreturn\u001b[39;00m response\n",
      "File \u001b[0;32m~/Documents/git/.venv/lib/python3.9/site-packages/selenium/webdriver/remote/errorhandler.py:229\u001b[0m, in \u001b[0;36mErrorHandler.check_response\u001b[0;34m(self, response)\u001b[0m\n\u001b[1;32m    227\u001b[0m         alert_text \u001b[38;5;241m=\u001b[39m value[\u001b[38;5;124m\"\u001b[39m\u001b[38;5;124malert\u001b[39m\u001b[38;5;124m\"\u001b[39m]\u001b[38;5;241m.\u001b[39mget(\u001b[38;5;124m\"\u001b[39m\u001b[38;5;124mtext\u001b[39m\u001b[38;5;124m\"\u001b[39m)\n\u001b[1;32m    228\u001b[0m     \u001b[38;5;28;01mraise\u001b[39;00m exception_class(message, screen, stacktrace, alert_text)  \u001b[38;5;66;03m# type: ignore[call-arg]  # mypy is not smart enough here\u001b[39;00m\n\u001b[0;32m--> 229\u001b[0m \u001b[38;5;28;01mraise\u001b[39;00m exception_class(message, screen, stacktrace)\n",
      "\u001b[0;31mNoSuchElementException\u001b[0m: Message: no such element: Unable to locate element: {\"method\":\"css selector\",\"selector\":\".gd_best\"}\n  (Session info: chrome=126.0.6478.127); For documentation on this error, please visit: https://www.selenium.dev/documentation/webdriver/troubleshooting/errors#no-such-element-exception\nStacktrace:\n0   chromedriver                        0x0000000107c82078 chromedriver + 5169272\n1   chromedriver                        0x0000000107c79f4a chromedriver + 5136202\n2   chromedriver                        0x00000001077f636c chromedriver + 402284\n3   chromedriver                        0x0000000107843740 chromedriver + 718656\n4   chromedriver                        0x0000000107843a01 chromedriver + 719361\n5   chromedriver                        0x0000000107888bc4 chromedriver + 1002436\n6   chromedriver                        0x0000000107866add chromedriver + 862941\n7   chromedriver                        0x0000000107885f57 chromedriver + 991063\n8   chromedriver                        0x0000000107866853 chromedriver + 862291\n9   chromedriver                        0x00000001078365c6 chromedriver + 665030\n10  chromedriver                        0x0000000107836e4e chromedriver + 667214\n11  chromedriver                        0x0000000107c44c90 chromedriver + 4918416\n12  chromedriver                        0x0000000107c49c8d chromedriver + 4938893\n13  chromedriver                        0x0000000107c4a365 chromedriver + 4940645\n14  chromedriver                        0x0000000107c25d74 chromedriver + 4791668\n15  chromedriver                        0x0000000107c4a659 chromedriver + 4941401\n16  chromedriver                        0x0000000107c17544 chromedriver + 4732228\n17  chromedriver                        0x0000000107c6a828 chromedriver + 5072936\n18  chromedriver                        0x0000000107c6a9e7 chromedriver + 5073383\n19  chromedriver                        0x0000000107c79afe chromedriver + 5135102\n20  libsystem_pthread.dylib             0x00007ff81306c18b _pthread_start + 99\n21  libsystem_pthread.dylib             0x00007ff813067ae3 thread_start + 15\n"
     ]
    }
   ],
   "source": [
    "ranking = browser.find_element(By.CLASS_NAME,'gd_best').text.split(\" | \")[0]"
   ]
  }
 ],
 "metadata": {
  "kernelspec": {
   "display_name": ".venv",
   "language": "python",
   "name": "python3"
  },
  "language_info": {
   "codemirror_mode": {
    "name": "ipython",
    "version": 3
   },
   "file_extension": ".py",
   "mimetype": "text/x-python",
   "name": "python",
   "nbconvert_exporter": "python",
   "pygments_lexer": "ipython3",
   "version": "3.9.6"
  }
 },
 "nbformat": 4,
 "nbformat_minor": 2
}
