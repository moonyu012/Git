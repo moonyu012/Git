{
 "cells": [
  {
   "cell_type": "code",
   "execution_count": 3,
   "metadata": {},
   "outputs": [
    {
     "name": "stdout",
     "output_type": "stream",
     "text": [
      "merona 500\n",
      "gugucon 1000\n"
     ]
    }
   ],
   "source": [
    "name = ['merona', 'gugucon']\n",
    "price = [500, 1000]\n",
    "\n",
    "for n, p in zip(name, price): # 튜플로 묶여짐\n",
    "    print(n, p)\n"
   ]
  },
  {
   "cell_type": "code",
   "execution_count": 4,
   "metadata": {},
   "outputs": [
    {
     "data": {
      "text/plain": [
       "{'메로나': 500, '구구콘': 1000}"
      ]
     },
     "execution_count": 4,
     "metadata": {},
     "output_type": "execute_result"
    }
   ],
   "source": [
    "아이스크림2 = dict(메로나=500, 구구콘=1000)\n",
    "아이스크림2"
   ]
  },
  {
   "cell_type": "code",
   "execution_count": 5,
   "metadata": {},
   "outputs": [
    {
     "data": {
      "text/plain": [
       "{'메로나': 500, '구구콘': 1000}"
      ]
     },
     "execution_count": 5,
     "metadata": {},
     "output_type": "execute_result"
    }
   ],
   "source": [
    "아이스크림3 = dict([(\"메로나\", 500), (\"구구콘\", 1000)])\n",
    "아이스크림3"
   ]
  },
  {
   "cell_type": "code",
   "execution_count": 6,
   "metadata": {},
   "outputs": [
    {
     "name": "stdout",
     "output_type": "stream",
     "text": [
      "{'merona': 1000, 'gugucon': 2000}\n"
     ]
    }
   ],
   "source": [
    "name = ['merona', 'gugucon']\n",
    "price = [500, 1000]\n",
    "\n",
    "icecream2 = {k:v*2 for k, v in zip(name, price)}\n",
    "print(icecream2)\n"
   ]
  }
 ],
 "metadata": {
  "kernelspec": {
   "display_name": ".venv",
   "language": "python",
   "name": "python3"
  },
  "language_info": {
   "codemirror_mode": {
    "name": "ipython",
    "version": 3
   },
   "file_extension": ".py",
   "mimetype": "text/x-python",
   "name": "python",
   "nbconvert_exporter": "python",
   "pygments_lexer": "ipython3",
   "version": "3.9.6"
  }
 },
 "nbformat": 4,
 "nbformat_minor": 2
}
